{
 "cells": [
  {
   "cell_type": "code",
   "execution_count": null,
   "metadata": {
    "vscode": {
     "languageId": "plaintext"
    }
   },
   "outputs": [],
   "source": [
    "import json\n",
    "from collections import Counter\n",
    "import matplotlib.pyplot as plt"
   ]
  },
  {
   "cell_type": "code",
   "execution_count": null,
   "metadata": {
    "vscode": {
     "languageId": "plaintext"
    }
   },
   "outputs": [],
   "source": [
    "class NicknameAnalyzer:\n",
    "    def __init__(self, json_path):\n",
    "        self.json_path = json_path\n",
    "        self.data = self.load_data()\n",
    "\n",
    "    def load_data(self):\n",
    "        \"\"\"Load data from a JSON file.\"\"\"\n",
    "        try:\n",
    "            with open(self.json_path, 'r', encoding='utf-8') as file:\n",
    "                data = json.load(file)\n",
    "            return data\n",
    "        except Exception as e:\n",
    "            print(f\"Error loading JSON: {e}\")\n",
    "            return []\n",
    "\n",
    "    def get_type_distribution(self):\n",
    "        \"\"\"Calculate frequency distribution of nickname types.\"\"\"\n",
    "        types = [entry['type'] for entry in self.data]\n",
    "        return Counter(types)\n",
    "\n",
    "    def get_gender_based_distribution(self):\n",
    "        \"\"\"Calculate nickname type distribution based on gender.\"\"\"\n",
    "        return {\n",
    "            \"male\": Counter(entry['type'] for entry in self.data if entry['gender'] == 'male'),\n",
    "            \"female\": Counter(entry['type'] for entry in self.data if entry['gender'] == 'female')\n",
    "        }\n",
    "\n",
    "    def get_education_based_distribution(self):\n",
    "        \"\"\"Calculate nickname type distribution based on education.\"\"\"\n",
    "        return {\n",
    "            \"humanitarian\": Counter(entry['type'] for entry in self.data if entry['education'] == 'humanitarian'),\n",
    "            \"technical\": Counter(entry['type'] for entry in self.data if entry['education'] == 'technical')\n",
    "        }\n",
    "\n",
    "    def visualize_type_distribution(self):\n",
    "        \"\"\"Visualize the frequency distribution of nickname types.\"\"\"\n",
    "        type_counts = self.get_type_distribution()\n",
    "        labels, counts = zip(*type_counts.items())\n",
    "        plt.pie(counts, labels=labels, autopct='%1.1f%%', startangle=140)\n",
    "        plt.title(\"Частотное распределение типов никнеймов\")\n",
    "        plt.show()\n",
    "\n",
    "    def visualize_gender_distribution(self):\n",
    "        \"\"\"Visualize gender-based nickname type distribution.\"\"\"\n",
    "        gender_counts = self.get_gender_based_distribution()\n",
    "        for gender, counts in gender_counts.items():\n",
    "            labels, values = zip(*counts.items())\n",
    "            plt.bar(labels, values, label=gender)\n",
    "\n",
    "        plt.title(\"Типы никнеймов по полу\")\n",
    "        plt.xlabel(\"Типы никнеймов\")\n",
    "        plt.ylabel(\"Частота\")\n",
    "        plt.legend()\n",
    "        plt.show()\n",
    "\n",
    "    def visualize_education_distribution(self):\n",
    "        \"\"\"Visualize education-based nickname type distribution.\"\"\"\n",
    "        edu_counts = self.get_education_based_distribution()\n",
    "        for edu, counts in edu_counts.items():\n",
    "            labels, values = zip(*counts.items())\n",
    "            plt.bar(labels, values, label=edu)\n",
    "\n",
    "        plt.title(\"Типы никнеймов по образованию\")\n",
    "        plt.xlabel(\"Типы никнеймов\")\n",
    "        plt.ylabel(\"Частота\")\n",
    "        plt.legend()\n",
    "        plt.show()"
   ]
  },
  {
   "cell_type": "code",
   "execution_count": null,
   "metadata": {
    "vscode": {
     "languageId": "plaintext"
    }
   },
   "outputs": [],
   "source": []
  }
 ],
 "metadata": {
  "language_info": {
   "name": "python"
  }
 },
 "nbformat": 4,
 "nbformat_minor": 2
}
