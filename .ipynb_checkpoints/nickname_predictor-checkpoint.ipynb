{
 "cells": [
  {
   "cell_type": "code",
   "execution_count": null,
   "metadata": {
    "vscode": {
     "languageId": "plaintext"
    }
   },
   "outputs": [],
   "source": [
    "# Импортируем все необходимое\n",
    "import torch\n",
    "from src.app.core.tokenizer import Tokenizer\n",
    "from src.app.core.model import BertModel\n",
    "from sklearn.preprocessing import LabelEncoder"
   ]
  },
  {
   "cell_type": "code",
   "execution_count": null,
   "metadata": {
    "vscode": {
     "languageId": "plaintext"
    }
   },
   "outputs": [],
   "source": [
    "# Загрузка модели\n",
    "def load_model(model_path='model_checkpoint.pth'):\n",
    "    model = BertModel(num_labels=2).get_model()  # предполагаем, что у нас 2 класса\n",
    "    model.load_state_dict(torch.load(model_path))\n",
    "    model.eval()\n",
    "    return model"
   ]
  },
  {
   "cell_type": "code",
   "execution_count": null,
   "metadata": {
    "vscode": {
     "languageId": "plaintext"
    }
   },
   "outputs": [],
   "source": [
    "# Функция для предсказания\n",
    "def predict_nickname(nickname, model, tokenizer, label_encoder):\n",
    "    encoding = tokenizer.tokenize([nickname])\n",
    "    inputs = {key: torch.tensor(val) for key, val in encoding.items()}\n",
    "    with torch.no_grad():\n",
    "        outputs = model(**inputs)\n",
    "        preds = torch.argmax(outputs.logits, axis=1)\n",
    "        predicted_label = label_encoder.inverse_transform(preds.cpu().numpy())[0]\n",
    "    return predicted_label"
   ]
  },
  {
   "cell_type": "code",
   "execution_count": null,
   "metadata": {
    "vscode": {
     "languageId": "plaintext"
    }
   },
   "outputs": [],
   "source": [
    "# Загружаем модель и токенизатор\n",
    "model = load_model('model_checkpoint.pth')\n",
    "tokenizer = Tokenizer()\n",
    "label_encoder = LabelEncoder()\n",
    "label_encoder.fit(['label1', 'label2'])  # Обучаем на возможных метках"
   ]
  },
  {
   "cell_type": "code",
   "execution_count": null,
   "metadata": {
    "vscode": {
     "languageId": "plaintext"
    }
   },
   "outputs": [],
   "source": [
    "# Вводим никнейм для предсказания\n",
    "nickname = \"example_nickname\"\n",
    "predicted_label = predict_nickname(nickname, model, tokenizer, label_encoder)"
   ]
  },
  {
   "cell_type": "code",
   "execution_count": null,
   "metadata": {
    "vscode": {
     "languageId": "plaintext"
    }
   },
   "outputs": [],
   "source": [
    "# Выводим результат\n",
    "print(f\"Предсказанный признак для никнейма '{nickname}': {predicted_label}\")"
   ]
  }
 ],
 "metadata": {
  "language_info": {
   "name": "python"
  }
 },
 "nbformat": 4,
 "nbformat_minor": 2
}
